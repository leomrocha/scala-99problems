{
 "cells": [
  {
   "cell_type": "markdown",
   "metadata": {},
   "source": [
    "# Practice problems from here:\n",
    "\n",
    "http://aperiodic.net/phil/scala/s-99/\n",
    "\n",
    "https://www.geeksforgeeks.org/top-10-algorithms-in-interview-questions/\n",
    "\n",
    "https://www.geeksforgeeks.org/must-do-coding-questions-for-companies-like-amazon-microsoft-adobe/"
   ]
  },
  {
   "cell_type": "markdown",
   "metadata": {},
   "source": [
    "Some problems is not even worth solving in python as they are too simple with the python libraries.\n",
    "\n",
    "What makes sense sometimes is to make everything from scratch, for this I'm doing it only in Scala and in a Functional way, for this check the other folder with the problem number\n"
   ]
  },
  {
   "cell_type": "markdown",
   "metadata": {},
   "source": [
    "    \n",
    "    P06\n",
    "    Find out whether a list is a palindrome.\n",
    "    Example:\n",
    "    scala> isPalindrome(List(1, 2, 3, 2, 1))\n",
    "    res0: Boolean = true\n"
   ]
  },
  {
   "cell_type": "code",
   "execution_count": 50,
   "metadata": {},
   "outputs": [],
   "source": [
    "def is_palindrome(p):\n",
    "    return p == p[::-1]"
   ]
  },
  {
   "cell_type": "code",
   "execution_count": 52,
   "metadata": {},
   "outputs": [
    {
     "data": {
      "text/plain": [
       "True"
      ]
     },
     "execution_count": 52,
     "metadata": {},
     "output_type": "execute_result"
    }
   ],
   "source": [
    "p = [1, 2, 3, 2, 1]\n",
    "is_palindrome(p)"
   ]
  },
  {
   "cell_type": "markdown",
   "metadata": {},
   "source": [
    "    P07 (**) Flatten a nested list structure.\n",
    "    Example:\n",
    "    scala> flatten(List(List(1, 1), 2, List(3, List(5, 8))))\n",
    "    res0: List[Any] = List(1, 1, 2, 3, 5, 8)"
   ]
  },
  {
   "cell_type": "code",
   "execution_count": 80,
   "metadata": {},
   "outputs": [],
   "source": [
    "#using python libraries\n",
    "# import itertools\n",
    "# def flatten_list(l):\n",
    "#     list(itertools.chain(*l))  # only works when all sub-elements are lists\n",
    "\n",
    "def is_list_or_tuple(e):\n",
    "    return type(e) == list or type(e) == tuple\n",
    "\n",
    "#doing it by hand \n",
    "def flatten_list2(l):\n",
    "    out = []\n",
    "    for i in l:\n",
    "#         print(\" i = \",i)\n",
    "        if is_list_or_tuple(i):\n",
    "            i2 = flatten_list2(i)\n",
    "            for e in i2:\n",
    "#                 print(\" e = \",e)\n",
    "                out.append(e)\n",
    "        else:\n",
    "#             print(\"adding i\", i)\n",
    "            out.append(i)\n",
    "    return out\n"
   ]
  },
  {
   "cell_type": "code",
   "execution_count": 81,
   "metadata": {},
   "outputs": [
    {
     "data": {
      "text/plain": [
       "[1, 1, 2, 3, 5, 8]"
      ]
     },
     "execution_count": 81,
     "metadata": {},
     "output_type": "execute_result"
    }
   ],
   "source": [
    "l = [[1, 1], 2, [3, [5, 8]]]\n",
    "flatten_list2(l)"
   ]
  },
  {
   "cell_type": "markdown",
   "metadata": {},
   "source": [
    "    P08\n",
    "    Eliminate consecutive duplicates of list elements.\n",
    "    If a list contains repeated elements they should be replaced with a single copy of the element. The order of the elements should not be changed.\n",
    "    Example:\n",
    "\n",
    "    scala> compress(List('a, 'a, 'a, 'a, 'b, 'c, 'c, 'a, 'a, 'd, 'e, 'e, 'e, 'e))\n",
    "    res0: List[Symbol] = List('a, 'b, 'c, 'a, 'd, 'e)"
   ]
  },
  {
   "cell_type": "code",
   "execution_count": 91,
   "metadata": {},
   "outputs": [],
   "source": [
    "# this one des not work correctly as will have 2 issues: \n",
    "#  does not necessarilly keep the order\n",
    "#  it eliminates ALL duplicates, not only the consecutive ones\n",
    "def dedup(l):\n",
    "    return list(set(l)) \n",
    "\n",
    "def dedup2(l):\n",
    "    tmp = None\n",
    "    out = []\n",
    "    for e in l:\n",
    "        if e == tmp:\n",
    "            continue\n",
    "        else:\n",
    "            out.append(e)\n",
    "            tmp = e\n",
    "    return out"
   ]
  },
  {
   "cell_type": "code",
   "execution_count": 92,
   "metadata": {},
   "outputs": [
    {
     "name": "stdout",
     "output_type": "stream",
     "text": [
      "['a', 'b', 'c', 'd', 'e']\n"
     ]
    },
    {
     "data": {
      "text/plain": [
       "['a', 'b', 'c', 'a', 'd', 'e']"
      ]
     },
     "execution_count": 92,
     "metadata": {},
     "output_type": "execute_result"
    }
   ],
   "source": [
    "l = ['a', 'a', 'a', 'a', 'b', 'c', 'c', 'a', 'a', 'd', 'e', 'e', 'e', 'e']\n",
    "print(dedup(l))\n",
    "\n",
    "dedup2(l)"
   ]
  },
  {
   "cell_type": "markdown",
   "metadata": {},
   "source": [
    "    P10 (*) Run-length encoding of a list.\n",
    "    Use the result of problem P09 to implement the so-called run-length encoding data compression method. Consecutive duplicates of elements are encoded as tuples (N, E) where N is the number of duplicates of the element E.\n",
    "    Example:\n",
    "\n",
    "    scala> encode(List('a, 'a, 'a, 'a, 'b, 'c, 'c, 'a, 'a, 'd, 'e, 'e, 'e, 'e))\n",
    "    res0: List[(Int, Symbol)] = List((4,'a), (1,'b), (2,'c), (2,'a), (1,'d), (4,'e))\n",
    "    "
   ]
  },
  {
   "cell_type": "code",
   "execution_count": null,
   "metadata": {},
   "outputs": [],
   "source": []
  },
  {
   "cell_type": "code",
   "execution_count": 106,
   "metadata": {},
   "outputs": [],
   "source": [
    "from collections import OrderedDict\n",
    "def length_encode(l):\n",
    "    out = OrderedDict()\n",
    "    for e in l:\n",
    "        if e in out:\n",
    "            out[e] = out[e]+1\n",
    "        else:\n",
    "            out[e] = 1\n",
    "    return list(out.items())\n",
    "            "
   ]
  },
  {
   "cell_type": "code",
   "execution_count": 107,
   "metadata": {},
   "outputs": [
    {
     "data": {
      "text/plain": [
       "[('a', 6), ('b', 1), ('c', 2), ('d', 1), ('e', 4)]"
      ]
     },
     "execution_count": 107,
     "metadata": {},
     "output_type": "execute_result"
    }
   ],
   "source": [
    "l = ['a', 'a', 'a', 'a', 'b', 'c', 'c', 'a', 'a', 'd', 'e', 'e', 'e', 'e']\n",
    "length_encode(l)"
   ]
  },
  {
   "cell_type": "markdown",
   "metadata": {},
   "source": [
    "    P11 (*) Modified run-length encoding.\n",
    "    Modify the result of problem P10 in such a way that if an element has no duplicates it is simply copied into the result list. Only elements with duplicates are transferred as (N, E) terms.\n",
    "    Example:\n",
    "\n",
    "    scala> encodeModified(List('a, 'a, 'a, 'a, 'b, 'c, 'c, 'a, 'a, 'd, 'e, 'e, 'e, 'e))\n",
    "    res0: List[Any] = List((4,'a), 'b, (2,'c), (2,'a), 'd, (4,'e))\n",
    "    "
   ]
  },
  {
   "cell_type": "markdown",
   "metadata": {},
   "source": [
    "    P12 (**) Decode a run-length encoded list.\n",
    "    Given a run-length code list generated as specified in problem P10, construct its uncompressed version.\n",
    "    Example:\n",
    "\n",
    "    scala> decode(List((4, 'a), (1, 'b), (2, 'c), (2, 'a), (1, 'd), (4, 'e)))\n",
    "    res0: List[Symbol] = List('a, 'a, 'a, 'a, 'b, 'c, 'c, 'a, 'a, 'd, 'e, 'e, 'e, 'e)\n",
    "    "
   ]
  },
  {
   "cell_type": "markdown",
   "metadata": {},
   "source": [
    "    P13 (**) Run-length encoding of a list (direct solution).\n",
    "    Implement the so-called run-length encoding data compression method directly. I.e. don't use other methods you've written (like P09's pack); do all the work directly.\n",
    "    Example:\n",
    "\n",
    "    scala> encodeDirect(List('a, 'a, 'a, 'a, 'b, 'c, 'c, 'a, 'a, 'd, 'e, 'e, 'e, 'e))\n",
    "    res0: List[(Int, Symbol)] = List((4,'a), (1,'b), (2,'c), (2,'a), (1,'d), (4,'e))\n",
    "    "
   ]
  },
  {
   "cell_type": "markdown",
   "metadata": {},
   "source": [
    "    P14 (*) Duplicate the elements of a list.\n",
    "    Example:\n",
    "    scala> duplicate(List('a, 'b, 'c, 'c, 'd))\n",
    "    res0: List[Symbol] = List('a, 'a, 'b, 'b, 'c, 'c, 'c, 'c, 'd, 'd)"
   ]
  }
 ],
 "metadata": {
  "kernelspec": {
   "display_name": "Python 3",
   "language": "python",
   "name": "python3"
  },
  "language_info": {
   "codemirror_mode": {
    "name": "ipython",
    "version": 3
   },
   "file_extension": ".py",
   "mimetype": "text/x-python",
   "name": "python",
   "nbconvert_exporter": "python",
   "pygments_lexer": "ipython3",
   "version": "3.5.2"
  }
 },
 "nbformat": 4,
 "nbformat_minor": 2
}
